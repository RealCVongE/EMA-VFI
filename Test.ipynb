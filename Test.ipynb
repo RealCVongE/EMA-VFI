{
 "cells": [
  {
   "cell_type": "code",
   "execution_count": null,
   "metadata": {},
   "outputs": [],
   "source": [
    "import torch\n",
    "\n",
    "# 모델 구조를 정의해야 합니다. 예를 들어 'Model'이라는 클래스가 있다고 가정합니다.\n",
    "# from your_model_file import Model\n",
    "# model = Model()\n",
    "\n",
    "# 이후 모델의 체크포인트를 로드합니다.\n",
    "checkpoint = torch.load('path_to_your_checkpoint.pkl', map_location='cpu')\n",
    "\n",
    "# 모델의 상태를 체크포인트의 상태로 업데이트합니다.\n",
    "model.load_state_dict(checkpoint['state_dict'])\n",
    "\n",
    "# 이제 모델을 사용할 준비가 되었습니다.\n"
   ]
  },
  {
   "cell_type": "code",
   "execution_count": 7,
   "metadata": {},
   "outputs": [
    {
     "name": "stdout",
     "output_type": "stream",
     "text": [
      "=========================Start Generating=========================\n",
      "=========================Done=========================\n"
     ]
    }
   ],
   "source": [
    "!python demo_3x.py --model ours_t --n 3 --video ../PreProcess/ori_Training/C_3_12_1_BU_SMB_08-28_16-25-27_CC_RGB_DF2_M1.mp4 --output ../PreProcess/inter_ori_Training/output_video3.mp4"
   ]
  },
  {
   "cell_type": "code",
   "execution_count": null,
   "metadata": {},
   "outputs": [],
   "source": [
    "!python demo_2x.py        # for 2x interpolation"
   ]
  },
  {
   "cell_type": "code",
   "execution_count": null,
   "metadata": {},
   "outputs": [],
   "source": [
    "!python demo_Nx.py --n 8  # for 8x interpolation"
   ]
  }
 ],
 "metadata": {
  "kernelspec": {
   "display_name": "ema-vfi",
   "language": "python",
   "name": "python3"
  },
  "language_info": {
   "codemirror_mode": {
    "name": "ipython",
    "version": 3
   },
   "file_extension": ".py",
   "mimetype": "text/x-python",
   "name": "python",
   "nbconvert_exporter": "python",
   "pygments_lexer": "ipython3",
   "version": "3.8.19"
  }
 },
 "nbformat": 4,
 "nbformat_minor": 2
}
